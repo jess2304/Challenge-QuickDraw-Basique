{
 "cells": [
  {
   "cell_type": "markdown",
   "id": "cd661330",
   "metadata": {},
   "source": [
    "# Test sur un jeu de données"
   ]
  },
  {
   "cell_type": "markdown",
   "id": "4809926c",
   "metadata": {},
   "source": [
    "1- Ce Notebook propose un test sur le jeu de données extrait de l'autre notebook. Ce sont les 30% images sous forme de X_test,y_test. Cela permet d'évaluer le modèle et voir son comportement vis à vis d'images qu'il ne connaît pas.\n",
    "\n",
    "2- Il montre aussi une fonction que le correcteur utilisera pour prédire les classes des images dans un répertoir."
   ]
  },
  {
   "attachments": {},
   "cell_type": "markdown",
   "id": "c0bb15e7",
   "metadata": {},
   "source": [
    "Il faut lancer le pip install pour ce notebook aussi pour permettre d'avoir les bibliothèques importantes ! "
   ]
  },
  {
   "cell_type": "code",
   "execution_count": 2,
   "id": "967da4b4",
   "metadata": {},
   "outputs": [
    {
     "name": "stdout",
     "output_type": "stream",
     "text": [
      "Collecting absl-py==1.4.0\n",
      "  Using cached absl_py-1.4.0-py3-none-any.whl (126 kB)\n",
      "Requirement already satisfied: asttokens==2.2.1 in c:\\users\\jessem\\desktop\\challenge\\challenge\\lib\\site-packages (from -r requirements.txt (line 2)) (2.2.1)\n",
      "Collecting astunparse==1.6.3\n",
      "  Using cached astunparse-1.6.3-py2.py3-none-any.whl (12 kB)\n",
      "Collecting attrs==22.1.0\n",
      "  Using cached attrs-22.1.0-py2.py3-none-any.whl (58 kB)\n",
      "Requirement already satisfied: backcall==0.2.0 in c:\\users\\jessem\\desktop\\challenge\\challenge\\lib\\site-packages (from -r requirements.txt (line 5)) (0.2.0)\n",
      "Collecting boto3==1.26.30\n",
      "  Using cached boto3-1.26.30-py3-none-any.whl (132 kB)\n",
      "Collecting botocore==1.29.30\n",
      "  Using cached botocore-1.29.30-py3-none-any.whl (10.3 MB)\n",
      "Collecting CacheControl==0.12.11\n",
      "  Using cached CacheControl-0.12.11-py2.py3-none-any.whl (21 kB)\n",
      "Collecting cachetools==5.3.0\n",
      "  Using cached cachetools-5.3.0-py3-none-any.whl (9.3 kB)\n",
      "Collecting cachy==0.3.0\n",
      "  Using cached cachy-0.3.0-py2.py3-none-any.whl (20 kB)\n",
      "Collecting certifi==2022.9.24\n",
      "  Using cached certifi-2022.9.24-py3-none-any.whl (161 kB)\n",
      "Collecting cfgv==3.3.1\n",
      "  Using cached cfgv-3.3.1-py2.py3-none-any.whl (7.3 kB)\n",
      "Collecting charset-normalizer==2.1.1\n",
      "  Using cached charset_normalizer-2.1.1-py3-none-any.whl (39 kB)\n",
      "Collecting cleo==1.0.0a5\n",
      "  Using cached cleo-1.0.0a5-py3-none-any.whl (78 kB)\n",
      "Requirement already satisfied: colorama==0.4.6 in c:\\users\\jessem\\desktop\\challenge\\challenge\\lib\\site-packages (from -r requirements.txt (line 15)) (0.4.6)\n",
      "Requirement already satisfied: comm==0.1.2 in c:\\users\\jessem\\desktop\\challenge\\challenge\\lib\\site-packages (from -r requirements.txt (line 16)) (0.1.2)\n",
      "Collecting contourpy==1.0.7\n",
      "  Using cached contourpy-1.0.7-cp39-cp39-win_amd64.whl (160 kB)\n",
      "Collecting crashtest==0.3.1\n",
      "  Using cached crashtest-0.3.1-py3-none-any.whl (7.0 kB)\n",
      "Collecting cycler==0.11.0\n",
      "  Using cached cycler-0.11.0-py3-none-any.whl (6.4 kB)\n",
      "Requirement already satisfied: debugpy==1.6.6 in c:\\users\\jessem\\desktop\\challenge\\challenge\\lib\\site-packages (from -r requirements.txt (line 20)) (1.6.6)\n",
      "Requirement already satisfied: decorator==5.1.1 in c:\\users\\jessem\\desktop\\challenge\\challenge\\lib\\site-packages (from -r requirements.txt (line 21)) (5.1.1)\n",
      "Collecting distlib==0.3.6\n",
      "  Using cached distlib-0.3.6-py2.py3-none-any.whl (468 kB)\n",
      "Collecting dulwich==0.20.50\n",
      "  Using cached dulwich-0.20.50-cp39-cp39-win_amd64.whl (472 kB)\n",
      "Requirement already satisfied: executing==1.2.0 in c:\\users\\jessem\\desktop\\challenge\\challenge\\lib\\site-packages (from -r requirements.txt (line 24)) (1.2.0)\n",
      "Collecting filelock==3.8.0\n",
      "  Using cached filelock-3.8.0-py3-none-any.whl (10 kB)\n",
      "Collecting flake8==4.0.1\n",
      "  Using cached flake8-4.0.1-py2.py3-none-any.whl (64 kB)\n",
      "Collecting flatbuffers==23.1.21\n",
      "  Using cached flatbuffers-23.1.21-py2.py3-none-any.whl (26 kB)\n",
      "Collecting fonttools==4.38.0\n",
      "  Using cached fonttools-4.38.0-py3-none-any.whl (965 kB)\n",
      "Collecting gast==0.4.0\n",
      "  Using cached gast-0.4.0-py3-none-any.whl (9.8 kB)\n",
      "Collecting google-auth==2.16.0\n",
      "  Using cached google_auth-2.16.0-py2.py3-none-any.whl (177 kB)\n",
      "Collecting google-auth-oauthlib==0.4.6\n",
      "  Using cached google_auth_oauthlib-0.4.6-py2.py3-none-any.whl (18 kB)\n",
      "Collecting google-pasta==0.2.0\n",
      "  Using cached google_pasta-0.2.0-py3-none-any.whl (57 kB)\n",
      "Collecting grpcio==1.51.1\n",
      "  Using cached grpcio-1.51.1-cp39-cp39-win_amd64.whl (3.7 MB)\n",
      "Collecting h5py==3.8.0\n",
      "  Using cached h5py-3.8.0-cp39-cp39-win_amd64.whl (2.6 MB)\n",
      "Collecting html5lib==1.1\n",
      "  Using cached html5lib-1.1-py2.py3-none-any.whl (112 kB)\n",
      "Collecting identify==2.5.9\n",
      "  Using cached identify-2.5.9-py2.py3-none-any.whl (98 kB)\n",
      "Collecting idna==3.4\n",
      "  Using cached idna-3.4-py3-none-any.whl (61 kB)\n",
      "Collecting importlib-metadata==4.13.0\n",
      "  Using cached importlib_metadata-4.13.0-py3-none-any.whl (23 kB)\n",
      "Collecting ipykernel==6.21.0\n",
      "  Using cached ipykernel-6.21.0-py3-none-any.whl (149 kB)\n",
      "Requirement already satisfied: ipython==8.9.0 in c:\\users\\jessem\\desktop\\challenge\\challenge\\lib\\site-packages (from -r requirements.txt (line 40)) (8.9.0)\n",
      "Collecting jaraco.classes==3.2.3\n",
      "  Using cached jaraco.classes-3.2.3-py3-none-any.whl (6.0 kB)\n",
      "Requirement already satisfied: jedi==0.18.2 in c:\\users\\jessem\\desktop\\challenge\\challenge\\lib\\site-packages (from -r requirements.txt (line 42)) (0.18.2)\n",
      "Collecting jmespath==1.0.1\n",
      "  Using cached jmespath-1.0.1-py3-none-any.whl (20 kB)\n",
      "Collecting joblib==1.2.0\n",
      "  Using cached joblib-1.2.0-py3-none-any.whl (297 kB)\n",
      "Collecting jsonschema==4.17.3\n",
      "  Using cached jsonschema-4.17.3-py3-none-any.whl (90 kB)\n",
      "Requirement already satisfied: jupyter_client==8.0.2 in c:\\users\\jessem\\desktop\\challenge\\challenge\\lib\\site-packages (from -r requirements.txt (line 46)) (8.0.2)\n",
      "Requirement already satisfied: jupyter_core==5.2.0 in c:\\users\\jessem\\desktop\\challenge\\challenge\\lib\\site-packages (from -r requirements.txt (line 47)) (5.2.0)\n",
      "Collecting keras==2.11.0\n",
      "  Using cached keras-2.11.0-py2.py3-none-any.whl (1.7 MB)\n",
      "Collecting keyring==23.11.0\n",
      "  Using cached keyring-23.11.0-py3-none-any.whl (36 kB)\n",
      "Collecting kiwisolver==1.4.4\n",
      "  Using cached kiwisolver-1.4.4-cp39-cp39-win_amd64.whl (55 kB)\n",
      "Collecting libclang==15.0.6.1\n",
      "  Using cached libclang-15.0.6.1-py2.py3-none-win_amd64.whl (23.2 MB)\n",
      "Collecting lockfile==0.12.2\n",
      "  Using cached lockfile-0.12.2-py2.py3-none-any.whl (13 kB)\n",
      "Collecting Markdown==3.4.1\n",
      "  Using cached Markdown-3.4.1-py3-none-any.whl (93 kB)\n",
      "Collecting MarkupSafe==2.1.2\n",
      "  Using cached MarkupSafe-2.1.2-cp39-cp39-win_amd64.whl (16 kB)\n",
      "Collecting matplotlib==3.6.3\n",
      "  Using cached matplotlib-3.6.3-cp39-cp39-win_amd64.whl (7.2 MB)\n",
      "Requirement already satisfied: matplotlib-inline==0.1.6 in c:\\users\\jessem\\desktop\\challenge\\challenge\\lib\\site-packages (from -r requirements.txt (line 56)) (0.1.6)\n",
      "Collecting mccabe==0.6.1\n",
      "  Using cached mccabe-0.6.1-py2.py3-none-any.whl (8.6 kB)\n",
      "Collecting more-itertools==9.0.0\n",
      "  Using cached more_itertools-9.0.0-py3-none-any.whl (52 kB)\n",
      "Collecting msgpack==1.0.4\n",
      "  Using cached msgpack-1.0.4-cp39-cp39-win_amd64.whl (62 kB)\n",
      "Collecting mypy==0.991\n",
      "  Using cached mypy-0.991-cp39-cp39-win_amd64.whl (8.7 MB)\n",
      "Collecting mypy-extensions==0.4.3\n",
      "  Using cached mypy_extensions-0.4.3-py2.py3-none-any.whl (4.5 kB)\n",
      "Collecting nodeenv==1.7.0\n",
      "  Using cached nodeenv-1.7.0-py2.py3-none-any.whl (21 kB)\n",
      "Collecting numpy==1.24.1\n",
      "  Using cached numpy-1.24.1-cp39-cp39-win_amd64.whl (14.9 MB)\n",
      "Collecting oauthlib==3.2.2\n",
      "  Using cached oauthlib-3.2.2-py3-none-any.whl (151 kB)\n",
      "Collecting opt-einsum==3.3.0\n",
      "  Using cached opt_einsum-3.3.0-py3-none-any.whl (65 kB)\n",
      "Collecting packaging==21.3\n",
      "  Using cached packaging-21.3-py3-none-any.whl (40 kB)\n",
      "Collecting pandas==1.5.3\n",
      "  Using cached pandas-1.5.3-cp39-cp39-win_amd64.whl (10.9 MB)\n",
      "Requirement already satisfied: parso==0.8.3 in c:\\users\\jessem\\desktop\\challenge\\challenge\\lib\\site-packages (from -r requirements.txt (line 68)) (0.8.3)\n",
      "Collecting pexpect==4.8.0\n",
      "  Using cached pexpect-4.8.0-py2.py3-none-any.whl (59 kB)\n",
      "Requirement already satisfied: pickleshare==0.7.5 in c:\\users\\jessem\\desktop\\challenge\\challenge\\lib\\site-packages (from -r requirements.txt (line 70)) (0.7.5)\n",
      "Collecting Pillow==9.4.0\n",
      "  Using cached Pillow-9.4.0-cp39-cp39-win_amd64.whl (2.5 MB)\n",
      "Collecting pkginfo==1.9.2\n",
      "  Using cached pkginfo-1.9.2-py3-none-any.whl (26 kB)\n",
      "Collecting platformdirs==2.5.4\n",
      "  Using cached platformdirs-2.5.4-py3-none-any.whl (14 kB)\n",
      "Collecting poetry==1.2.2\n",
      "  Using cached poetry-1.2.2-py3-none-any.whl (212 kB)\n",
      "Collecting poetry-core==1.3.2\n",
      "  Using cached poetry_core-1.3.2-py3-none-any.whl (531 kB)\n",
      "Collecting poetry-plugin-export==1.2.0\n",
      "  Using cached poetry_plugin_export-1.2.0-py3-none-any.whl (10 kB)\n",
      "Collecting pre-commit==2.20.0\n",
      "  Using cached pre_commit-2.20.0-py2.py3-none-any.whl (199 kB)\n",
      "Requirement already satisfied: prompt-toolkit==3.0.36 in c:\\users\\jessem\\desktop\\challenge\\challenge\\lib\\site-packages (from -r requirements.txt (line 78)) (3.0.36)\n",
      "Collecting protobuf==3.19.6\n",
      "  Using cached protobuf-3.19.6-cp39-cp39-win_amd64.whl (895 kB)\n",
      "Requirement already satisfied: psutil==5.9.4 in c:\\users\\jessem\\desktop\\challenge\\challenge\\lib\\site-packages (from -r requirements.txt (line 80)) (5.9.4)\n",
      "Collecting ptyprocess==0.7.0\n",
      "  Using cached ptyprocess-0.7.0-py2.py3-none-any.whl (13 kB)\n",
      "Requirement already satisfied: pure-eval==0.2.2 in c:\\users\\jessem\\desktop\\challenge\\challenge\\lib\\site-packages (from -r requirements.txt (line 82)) (0.2.2)\n",
      "Collecting pyasn1==0.4.8\n",
      "  Using cached pyasn1-0.4.8-py2.py3-none-any.whl (77 kB)\n",
      "Collecting pyasn1-modules==0.2.8\n",
      "  Using cached pyasn1_modules-0.2.8-py2.py3-none-any.whl (155 kB)\n",
      "Collecting pycodestyle==2.8.0\n",
      "  Using cached pycodestyle-2.8.0-py2.py3-none-any.whl (42 kB)\n",
      "Collecting pyflakes==2.4.0\n",
      "  Using cached pyflakes-2.4.0-py2.py3-none-any.whl (69 kB)\n",
      "Requirement already satisfied: Pygments==2.14.0 in c:\\users\\jessem\\desktop\\challenge\\challenge\\lib\\site-packages (from -r requirements.txt (line 87)) (2.14.0)\n",
      "Collecting pylev==1.4.0\n",
      "  Using cached pylev-1.4.0-py2.py3-none-any.whl (6.1 kB)\n",
      "Collecting pyparsing==3.0.9\n",
      "  Using cached pyparsing-3.0.9-py3-none-any.whl (98 kB)\n",
      "Collecting pyrsistent==0.19.2\n",
      "  Using cached pyrsistent-0.19.2-cp39-cp39-win_amd64.whl (62 kB)\n",
      "Requirement already satisfied: python-dateutil==2.8.2 in c:\\users\\jessem\\desktop\\challenge\\challenge\\lib\\site-packages (from -r requirements.txt (line 91)) (2.8.2)\n",
      "Collecting pytz==2022.7.1\n",
      "  Using cached pytz-2022.7.1-py2.py3-none-any.whl (499 kB)\n",
      "Requirement already satisfied: pywin32==305 in c:\\users\\jessem\\desktop\\challenge\\challenge\\lib\\site-packages (from -r requirements.txt (line 93)) (305)\n",
      "Collecting pywin32-ctypes==0.2.0\n",
      "  Using cached pywin32_ctypes-0.2.0-py2.py3-none-any.whl (28 kB)\n",
      "Collecting PyYAML==6.0\n",
      "  Using cached PyYAML-6.0-cp39-cp39-win_amd64.whl (151 kB)\n",
      "Requirement already satisfied: pyzmq==25.0.0 in c:\\users\\jessem\\desktop\\challenge\\challenge\\lib\\site-packages (from -r requirements.txt (line 96)) (25.0.0)\n",
      "Collecting requests==2.28.1\n",
      "  Using cached requests-2.28.1-py3-none-any.whl (62 kB)\n",
      "Collecting requests-oauthlib==1.3.1\n",
      "  Using cached requests_oauthlib-1.3.1-py2.py3-none-any.whl (23 kB)\n",
      "Collecting requests-toolbelt==0.9.1\n",
      "  Using cached requests_toolbelt-0.9.1-py2.py3-none-any.whl (54 kB)\n",
      "Collecting rsa==4.9\n",
      "  Using cached rsa-4.9-py3-none-any.whl (34 kB)\n",
      "Collecting s3transfer==0.6.0\n",
      "  Using cached s3transfer-0.6.0-py3-none-any.whl (79 kB)\n",
      "Collecting scikit-learn==1.2.1\n",
      "  Using cached scikit_learn-1.2.1-cp39-cp39-win_amd64.whl (8.4 MB)\n",
      "Collecting scipy==1.10.0\n",
      "  Using cached scipy-1.10.0-cp39-cp39-win_amd64.whl (42.5 MB)\n",
      "Collecting shellingham==1.5.0\n",
      "  Using cached shellingham-1.5.0-py2.py3-none-any.whl (9.3 kB)\n",
      "Requirement already satisfied: six==1.16.0 in c:\\users\\jessem\\desktop\\challenge\\challenge\\lib\\site-packages (from -r requirements.txt (line 105)) (1.16.0)\n",
      "Requirement already satisfied: stack-data==0.6.2 in c:\\users\\jessem\\desktop\\challenge\\challenge\\lib\\site-packages (from -r requirements.txt (line 106)) (0.6.2)\n",
      "Collecting tensorboard==2.11.2\n",
      "  Using cached tensorboard-2.11.2-py3-none-any.whl (6.0 MB)\n",
      "Collecting tensorboard-data-server==0.6.1\n",
      "  Using cached tensorboard_data_server-0.6.1-py3-none-any.whl (2.4 kB)\n",
      "Collecting tensorboard-plugin-wit==1.8.1\n",
      "  Using cached tensorboard_plugin_wit-1.8.1-py3-none-any.whl (781 kB)\n",
      "Collecting tensorflow==2.11.0\n",
      "  Using cached tensorflow-2.11.0-cp39-cp39-win_amd64.whl (1.9 kB)\n",
      "Collecting tensorflow-estimator==2.11.0\n",
      "  Using cached tensorflow_estimator-2.11.0-py2.py3-none-any.whl (439 kB)\n",
      "Collecting tensorflow-intel==2.11.0\n",
      "  Using cached tensorflow_intel-2.11.0-cp39-cp39-win_amd64.whl (266.3 MB)\n",
      "Collecting tensorflow-io-gcs-filesystem==0.30.0\n",
      "  Using cached tensorflow_io_gcs_filesystem-0.30.0-cp39-cp39-win_amd64.whl (1.5 MB)\n",
      "Collecting termcolor==2.2.0\n",
      "  Using cached termcolor-2.2.0-py3-none-any.whl (6.6 kB)\n",
      "Collecting threadpoolctl==3.1.0\n",
      "  Using cached threadpoolctl-3.1.0-py3-none-any.whl (14 kB)\n",
      "Collecting toml==0.10.2\n",
      "  Using cached toml-0.10.2-py2.py3-none-any.whl (16 kB)\n",
      "Collecting tomli==2.0.1\n",
      "  Using cached tomli-2.0.1-py3-none-any.whl (12 kB)\n",
      "Collecting tomlkit==0.11.6\n",
      "  Using cached tomlkit-0.11.6-py3-none-any.whl (35 kB)\n",
      "Requirement already satisfied: tornado==6.2 in c:\\users\\jessem\\desktop\\challenge\\challenge\\lib\\site-packages (from -r requirements.txt (line 119)) (6.2)\n",
      "Requirement already satisfied: traitlets==5.9.0 in c:\\users\\jessem\\desktop\\challenge\\challenge\\lib\\site-packages (from -r requirements.txt (line 120)) (5.9.0)\n",
      "Collecting types-pytz==2022.7.1.0\n",
      "  Using cached types_pytz-2022.7.1.0-py3-none-any.whl (4.8 kB)\n",
      "Collecting typing_extensions==4.4.0\n",
      "  Using cached typing_extensions-4.4.0-py3-none-any.whl (26 kB)\n",
      "Collecting urllib3==1.26.13\n",
      "  Using cached urllib3-1.26.13-py2.py3-none-any.whl (140 kB)\n",
      "Collecting virtualenv==20.17.0\n",
      "  Using cached virtualenv-20.17.0-py3-none-any.whl (8.8 MB)\n",
      "Requirement already satisfied: wcwidth==0.2.6 in c:\\users\\jessem\\desktop\\challenge\\challenge\\lib\\site-packages (from -r requirements.txt (line 125)) (0.2.6)\n",
      "Collecting webencodings==0.5.1\n",
      "  Using cached webencodings-0.5.1-py2.py3-none-any.whl (11 kB)\n",
      "Collecting Werkzeug==2.2.2\n",
      "  Using cached Werkzeug-2.2.2-py3-none-any.whl (232 kB)\n",
      "Collecting wrapt==1.14.1\n",
      "  Using cached wrapt-1.14.1-cp39-cp39-win_amd64.whl (35 kB)\n",
      "Collecting zipp==3.11.0\n",
      "  Using cached zipp-3.11.0-py3-none-any.whl (6.6 kB)\n",
      "Collecting wheel<1.0,>=0.23.0\n",
      "  Using cached wheel-0.38.4-py3-none-any.whl (36 kB)\n",
      "Requirement already satisfied: setuptools in c:\\users\\jessem\\desktop\\challenge\\challenge\\lib\\site-packages (from nodeenv==1.7.0->-r requirements.txt (line 62)) (58.1.0)\n",
      "Installing collected packages: webencodings, types-pytz, tensorboard-plugin-wit, pywin32-ctypes, pytz, pylev, pyasn1, ptyprocess, mypy-extensions, msgpack, mccabe, lockfile, libclang, flatbuffers, distlib, zipp, wrapt, wheel, urllib3, typing_extensions, tomlkit, tomli, toml, threadpoolctl, termcolor, tensorflow-io-gcs-filesystem, tensorflow-estimator, tensorboard-data-server, shellingham, rsa, PyYAML, pyrsistent, pyparsing, pyflakes, pycodestyle, pyasn1-modules, protobuf, poetry-core, platformdirs, pkginfo, Pillow, pexpect, oauthlib, numpy, nodeenv, more-itertools, MarkupSafe, kiwisolver, keras, joblib, jmespath, idna, identify, html5lib, grpcio, google-pasta, gast, fonttools, filelock, cycler, crashtest, charset-normalizer, cfgv, certifi, cachy, cachetools, attrs, absl-py, Werkzeug, virtualenv, scipy, requests, pandas, packaging, opt-einsum, mypy, jsonschema, jaraco.classes, importlib-metadata, h5py, google-auth, flake8, dulwich, contourpy, cleo, botocore, astunparse, scikit-learn, s3transfer, requests-toolbelt, requests-oauthlib, pre-commit, matplotlib, Markdown, keyring, CacheControl, ipykernel, google-auth-oauthlib, boto3, tensorboard, tensorflow-intel, tensorflow, poetry-plugin-export, poetry\n",
      "  Attempting uninstall: zipp\n",
      "    Found existing installation: zipp 3.12.0\n",
      "    Uninstalling zipp-3.12.0:\n",
      "      Successfully uninstalled zipp-3.12.0\n",
      "  Attempting uninstall: platformdirs\n",
      "    Found existing installation: platformdirs 2.6.2\n",
      "    Uninstalling platformdirs-2.6.2:\n",
      "      Successfully uninstalled platformdirs-2.6.2\n",
      "  Attempting uninstall: packaging\n",
      "    Found existing installation: packaging 23.0\n",
      "    Uninstalling packaging-23.0:\n",
      "      Successfully uninstalled packaging-23.0\n",
      "  Attempting uninstall: importlib-metadata\n",
      "    Found existing installation: importlib-metadata 6.0.0\n",
      "    Uninstalling importlib-metadata-6.0.0:\n",
      "      Successfully uninstalled importlib-metadata-6.0.0\n",
      "  Attempting uninstall: ipykernel\n",
      "    Found existing installation: ipykernel 6.20.2\n",
      "    Uninstalling ipykernel-6.20.2:\n",
      "      Successfully uninstalled ipykernel-6.20.2\n",
      "Successfully installed CacheControl-0.12.11 Markdown-3.4.1 MarkupSafe-2.1.2 Pillow-9.4.0 PyYAML-6.0 Werkzeug-2.2.2 absl-py-1.4.0 astunparse-1.6.3 attrs-22.1.0 boto3-1.26.30 botocore-1.29.30 cachetools-5.3.0 cachy-0.3.0 certifi-2022.9.24 cfgv-3.3.1 charset-normalizer-2.1.1 cleo-1.0.0a5 contourpy-1.0.7 crashtest-0.3.1 cycler-0.11.0 distlib-0.3.6 dulwich-0.20.50 filelock-3.8.0 flake8-4.0.1 flatbuffers-23.1.21 fonttools-4.38.0 gast-0.4.0 google-auth-2.16.0 google-auth-oauthlib-0.4.6 google-pasta-0.2.0 grpcio-1.51.1 h5py-3.8.0 html5lib-1.1 identify-2.5.9 idna-3.4 importlib-metadata-4.13.0 ipykernel-6.21.0 jaraco.classes-3.2.3 jmespath-1.0.1 joblib-1.2.0 jsonschema-4.17.3 keras-2.11.0 keyring-23.11.0 kiwisolver-1.4.4 libclang-15.0.6.1 lockfile-0.12.2 matplotlib-3.6.3 mccabe-0.6.1 more-itertools-9.0.0 msgpack-1.0.4 mypy-0.991 mypy-extensions-0.4.3 nodeenv-1.7.0 numpy-1.24.1 oauthlib-3.2.2 opt-einsum-3.3.0 packaging-21.3 pandas-1.5.3 pexpect-4.8.0 pkginfo-1.9.2 platformdirs-2.5.4 poetry-1.2.2 poetry-core-1.3.2 poetry-plugin-export-1.2.0 pre-commit-2.20.0 protobuf-3.19.6 ptyprocess-0.7.0 pyasn1-0.4.8 pyasn1-modules-0.2.8 pycodestyle-2.8.0 pyflakes-2.4.0 pylev-1.4.0 pyparsing-3.0.9 pyrsistent-0.19.2 pytz-2022.7.1 pywin32-ctypes-0.2.0 requests-2.28.1 requests-oauthlib-1.3.1 requests-toolbelt-0.9.1 rsa-4.9 s3transfer-0.6.0 scikit-learn-1.2.1 scipy-1.10.0 shellingham-1.5.0 tensorboard-2.11.2 tensorboard-data-server-0.6.1 tensorboard-plugin-wit-1.8.1 tensorflow-2.11.0 tensorflow-estimator-2.11.0 tensorflow-intel-2.11.0 tensorflow-io-gcs-filesystem-0.30.0 termcolor-2.2.0 threadpoolctl-3.1.0 toml-0.10.2 tomli-2.0.1 tomlkit-0.11.6 types-pytz-2022.7.1.0 typing_extensions-4.4.0 urllib3-1.26.13 virtualenv-20.17.0 webencodings-0.5.1 wheel-0.38.4 wrapt-1.14.1 zipp-3.11.0\n",
      "Note: you may need to restart the kernel to use updated packages.\n"
     ]
    },
    {
     "name": "stderr",
     "output_type": "stream",
     "text": [
      "WARNING: The candidate selected for download or install is a yanked version: 'ipykernel' candidate (version 6.21.0 at https://files.pythonhosted.org/packages/bc/60/6a1ad6f31447936c70f641fe07e3e8cde9e3f74839419f32538277139082/ipykernel-6.21.0-py3-none-any.whl#sha256=a9aaefb0cd6f44e3dcaeaafb9222862ae73831f71afd77f465fc83d6199d1888 (from https://pypi.org/simple/ipykernel/) (requires-python:>=3.8))\n",
      "Reason for being yanked: tk backend broke\n",
      "WARNING: The candidate selected for download or install is a yanked version: 'shellingham' candidate (version 1.5.0 at https://files.pythonhosted.org/packages/3d/1a/d31fce69c119df1fddab3706b63c53d363982c55d841d9c3839b12f15327/shellingham-1.5.0-py2.py3-none-any.whl#sha256=a8f02ba61b69baaa13facdba62908ca8690a94b8119b69f5ec5873ea85f7391b (from https://pypi.org/simple/shellingham/) (requires-python:>=3.4))\n",
      "Reason for being yanked: Incorrect package metadata\n",
      "WARNING: You are using pip version 22.0.4; however, version 23.0 is available.\n",
      "You should consider upgrading via the 'c:\\Users\\Jessem\\Desktop\\Challenge\\challenge\\Scripts\\python.exe -m pip install --upgrade pip' command.\n"
     ]
    }
   ],
   "source": [
    "pip install -r requirements.txt"
   ]
  },
  {
   "cell_type": "code",
   "execution_count": 3,
   "id": "92b8583e",
   "metadata": {},
   "outputs": [],
   "source": [
    "#--- Bibliothèques à utiliser\n",
    "import os\n",
    "import csv\n",
    "import keras\n",
    "import numpy as np\n",
    "import matplotlib.pyplot as plt\n",
    "from PIL import Image\n",
    "import pandas as pd\n",
    "from sklearn.metrics import confusion_matrix\n",
    "import itertools"
   ]
  },
  {
   "cell_type": "markdown",
   "id": "998cab10",
   "metadata": {},
   "source": [
    "#### Importer le modèle"
   ]
  },
  {
   "cell_type": "code",
   "execution_count": 4,
   "id": "2e81b060",
   "metadata": {},
   "outputs": [],
   "source": [
    "model = keras.models.load_model(\"../models/model_deep_learning02.h5\")\n",
    "model.load_weights(\"../models/weights.h5\")"
   ]
  },
  {
   "cell_type": "markdown",
   "id": "b7e2b213",
   "metadata": {},
   "source": [
    "#### Evaluer le modèle"
   ]
  },
  {
   "cell_type": "code",
   "execution_count": 5,
   "id": "cf19374f",
   "metadata": {},
   "outputs": [
    {
     "name": "stdout",
     "output_type": "stream",
     "text": [
      "235/235 [==============================] - 10s 40ms/step - loss: 0.0407 - accuracy: 0.9715\n"
     ]
    },
    {
     "data": {
      "text/plain": [
       "[0.04071300849318504, 0.9714666604995728]"
      ]
     },
     "execution_count": 5,
     "metadata": {},
     "output_type": "execute_result"
    }
   ],
   "source": [
    "X_test = np.load(\"../data/X_test.npy\")\n",
    "y_test = np.load(\"../data/y_test.npy\")\n",
    "\n",
    "model.evaluate(X_test, y_test, batch_size=32)"
   ]
  },
  {
   "cell_type": "markdown",
   "id": "1696a484",
   "metadata": {},
   "source": [
    "#### Représenter la matrice de confusion"
   ]
  },
  {
   "cell_type": "code",
   "execution_count": 6,
   "id": "d698ec74",
   "metadata": {},
   "outputs": [
    {
     "name": "stdout",
     "output_type": "stream",
     "text": [
      "235/235 [==============================] - 10s 41ms/step\n"
     ]
    },
    {
     "data": {
      "image/png": "[encoded data removed]",
      "text/plain": [
       "<Figure size 640x480 with 1 Axes>"
      ]
     },
     "metadata": {},
     "output_type": "display_data"
    }
   ],
   "source": [
    "predictions = model.predict(X_test)\n",
    "true_labels = np.argmax(y_test, axis=1)\n",
    "confusion_mat = confusion_matrix(true_labels,np.argmax(predictions, axis=1))\n",
    "\n",
    "plt.imshow(confusion_mat, cmap='Blues', interpolation='nearest')\n",
    "\n",
    "# Ajouter des étiquettes sur les axes\n",
    "class_names = [\"basket\",\"eye\",\"binoculars\",\"rabbit\",\"hand\"]\n",
    "tick_marks = np.arange(len(class_names))\n",
    "plt.xticks(tick_marks, class_names, rotation=45)\n",
    "plt.yticks(tick_marks, class_names)\n",
    "\n",
    "# Ajouter des étiquettes sur les cellules\n",
    "thresh = confusion_mat.max() / 2.\n",
    "for i, j in itertools.product(range(confusion_mat.shape[0]), range(confusion_mat.shape[1])):\n",
    "    plt.text(j, i, confusion_mat[i, j], horizontalalignment='center', color='white' if confusion_mat[i, j] > thresh else 'black')\n",
    "\n",
    "# Ajouter des étiquettes sur les axes\n",
    "plt.ylabel('True label')\n",
    "plt.xlabel('Predicted label')\n",
    "\n",
    "# Afficher la figure\n",
    "plt.show()\n"
   ]
  },
  {
   "cell_type": "markdown",
   "id": "1d673861",
   "metadata": {},
   "source": [
    "Dans cette partie de test, on propose une fonction globale qui prendra le nom du répertoir d'images à classer et le modèle de classification, elle fera le préprocessing nécessaire pour créer le jeu de test (X_test). Et elle fera le test de prédiction. Et à partir des prédictions, elle renvoie pour chaque image sa classe. La réponse totale sera enregistrée dans un fichier nommé \"predictions.csv\"."
   ]
  },
  {
   "cell_type": "code",
   "execution_count": 7,
   "id": "2aafbb99",
   "metadata": {},
   "outputs": [],
   "source": [
    "#-- Fonction principale de test\n",
    "def predire_dir(model, directory, directory_destination=\"\"):\n",
    "    \n",
    "    predictions = {\"image_name\":[],\n",
    "                   \"relative_path\":[],\n",
    "                   \"class_label\":[]\n",
    "                  }\n",
    "    \n",
    "    for name in os.listdir(directory):\n",
    "        im = Image.open(os.path.join(directory,name))\n",
    "        X_test = np.asarray(im)\n",
    "        X_test = np.expand_dims(X_test, axis=0)\n",
    "        \n",
    "        prediction = model.predict(X_test)\n",
    "        predicted_class = np.argmax(prediction)\n",
    "        print(predicted_class)\n",
    "        predictions[\"image_name\"].append(name)\n",
    "        predictions[\"relative_path\"].append(os.path.join(directory,name))\n",
    "        predictions[\"class_label\"].append(predicted_class)\n",
    "        \n",
    "    df_predictions = pd.DataFrame(predictions)\n",
    "    \n",
    "    df_predictions.to_csv(directory_destination+\"predictions.csv\")\n",
    "    \n",
    "    return(df_predictions)\n",
    "        "
   ]
  },
  {
   "cell_type": "code",
   "execution_count": 1,
   "id": "b5672cfb",
   "metadata": {},
   "outputs": [],
   "source": [
    "# Exemple d'appel à la fonction : Remarque : On n'oublie pas le dernier '/' après le nom du dernier dossier dans le répertoir. Supprimez ce répertoire et mettez le votre.\n",
    "#predire_dir(model,\"data/images_test/\")"
   ]
  },
  {
   "attachments": {},
   "cell_type": "markdown",
   "id": "fb6c5f46",
   "metadata": {},
   "source": [
    "# ----------------------------------- Fin Notebook de Test ---------------------------"
   ]
  }
 ],
 "metadata": {
  "kernelspec": {
   "display_name": "Python 3 (ipykernel)",
   "language": "python",
   "name": "python3"
  },
  "language_info": {
   "codemirror_mode": {
    "name": "ipython",
    "version": 3
   },
   "file_extension": ".py",
   "mimetype": "text/x-python",
   "name": "python",
   "nbconvert_exporter": "python",
   "pygments_lexer": "ipython3",
   "version": "3.9.13"
  },
  "vscode": {
   "interpreter": {
    "hash": "f5d43d1fbcbc092805ea280f7201aadb71650c6e76be31f982439129f2fbc7e9"
   }
  }
 },
 "nbformat": 4,
 "nbformat_minor": 5
}
